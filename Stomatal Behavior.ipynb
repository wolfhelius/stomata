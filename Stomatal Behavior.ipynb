{
 "cells": [
  {
   "cell_type": "markdown",
   "metadata": {},
   "source": [
    "#Stomatal Behavior Derivation\n",
    "\n",
    "This derivation begins with the assertion that the supply of water to the leaf, $E_{supply}$, is equal to the loss of water from the leaf by evaporative demand, $E_{demand}$ (units $M_{H_2O})/L_{leaf}^2$), and furthermore that both of these fluxes are determined in part by water potential ($\\psi$, units $P$) in the apoplast of the mesophyll, near to the sites of evaporation, i.e. $\\psi_{m}$:\n",
    "\n",
    "(1) $$E_{supply}(\\psi_m) = E_{demand}(\\psi_m)$$\n"
   ]
  },
  {
   "cell_type": "markdown",
   "metadata": {},
   "source": [
    "##Water Supply"
   ]
  },
  {
   "cell_type": "markdown",
   "metadata": {},
   "source": [
    "$E_{supply}$ decribes the flow of water through the xylem of the plant, from the soil at its water potential ($\\psi_s$) to the leaf ($\\psi_m$).  In our model, $\\psi_s$ is prescribed as a boundary condition, while $\\psi_m$ is solved to satisfy the equality of the two sides of (1). This flow is expressed as:\n",
    "\n",
    "(2)$$E_{supply} = \\int_{\\psi_s}^{\\psi_m}K(\\psi)d\\psi$$"
   ]
  },
  {
   "cell_type": "markdown",
   "metadata": {},
   "source": [
    "In a large body of modeling literature (e.g. Prentice et al 2014; Buckley and Roberts 2005; Bonan Williams Fisher Oleson 2014), K (units $M_{H_2O}/(L_{leaf}^2*P)$)  is taken to be a fixed constant, such that $E_{supply}$ takes on the familar Fick's law form, $E_{supply}=K*(\\psi_s - \\psi_m)$.  Obviously, this simplifies many calculations considerably. Nevertheless, there is a large body of empirical literature on plant vascular systems that shows that hydraulic conductance in the fine roots, woody tissue, and leaves is not fixed, but rather declines with decreasing water potential (Sperry Hacke Oren Comstock 2002; Maherali and Jackson 2004; Guyot Scoffoni Sack 2011).  A variety of different functions have been fit to observations of curves describing the percent loss of conductance (PLC) of xylem tissues, but we have adopted the Weibull function as a general form that describes most empirical data and has useful mathematical properties (continuous derivatives, etc): \n",
    "\n",
    "(3)$$K = K_{max}*exp\\left({\\left(-\\frac{\\psi}{c}\\right)}^d\\right)$$"
   ]
  },
  {
   "cell_type": "markdown",
   "metadata": {},
   "source": [
    "The solution to (2) using (3) is the difference between two upper incomplete gamma functions (Sperry et al 1998):\n",
    "\n",
    "(4)$$E_{supply} = K_{max}*\\frac{c}{d}*\\Gamma\\left(\\frac{1}{d}\\right)*\\left[\\Gamma\\left({\\frac{\\psi_m}{c}}^d,\\frac{1}{d}\\right) - \\Gamma\\left({\\frac{\\psi_s}{c}}^d,\\frac{1}{d}\\right)\\right]$$\n",
    "\n",
    "where the term $\\Gamma\\left(\\frac{1}{d}\\right)$ is a normalization that appears in typical implementations of the incomplete gamma function.  The behavior of this function is one that initially rises linearly with decreased $\\psi_m$ (for a given $\\psi_s$), and then asymptotes to $K_{max}$ as $\\psi_m$ declines substantially in comparison with $c$. "
   ]
  },
  {
   "cell_type": "markdown",
   "metadata": {},
   "source": [
    "## Water Demand"
   ]
  },
  {
   "cell_type": "markdown",
   "metadata": {},
   "source": [
    "$E_{demand}$ describes the flux of water from the mesophyll of the plant, into the sub-stomatal cavity, and out the stomatal pore into the bulk atmosphere.  $E_{demand}$ is defined as the product of the bulk leaf conductance, $g$ (units $M_{air}/L_{leaf}^2$) and the gradient in water vapor from inside the sub-stomatal cavity ($w_i$, units $M_{H_2O}/V_{air}$) to the air ($w_a$).  Leaf conductance is determined in large measure by the conductance of air across the pores of the stomata, $g_s$, which is actively regulated by higher plants in response to prevailing environmental conditions (e.g. light, $CO_2$, ambient humidity, soil moisture) as well as hormonal signals (ABA). Stomatal conductance is a bulk phenomenon that can be thought of as a combination of the number of leaves and the stomatal density per leaf, which vary over growth and development timescales (Dow Bergmann Berry 2014), and the aperture $a$ of the individual stomata themselves, which varies on timescales of minutes to hours (cite).  Physically-based models of $g_s$ (e.g. Buckley 2005) proceed from observations that $a$ is determined by guard cell pressure $P_g$ and epidermal cell pressure $P_e$. (Franks Cowan Farquhar 1998).  The stomatal aperture is _positively_ related to $P_g$, opening as the guard cell becomes turgid, but _negatively_ related to $P_e$ because the epidermal cells have a mechanical advantage $m$ over the guard cells:\n",
    "\n",
    "(5)$$g_s = \\chi*(P_g - mP_e)$$\n",
    "\n",
    "where $\\chi$ is a proportionality constant mapping guard cell pressure into stomatal conductance.  It is understood that total water potential in the leaf ($\\psi$) is the sum of a pressure potential $P$ and an osmotic potential $\\pi$.\n",
    "\n",
    "(6)$$\\psi = P - \\pi$$\n",
    "\n",
    "We follow the convention that $\\pi >= 0$, P >=0 and P <= \\pi$.  Breaking (5) into its individual components yields:\n",
    "\n",
    "(7)$$g_s = \\chi(\\psi_g - m\\psi_e) + \\chi(\\pi_g - m\\pi_e)$$\n",
    "\n",
    "We regard $\\pi_e$ as a constant, representing the turgor loss point of the leaf.  The water potential terms represent a physical hydrodynamic system that exhibits passive behavior in response to water potentials in the atmosphere or upstream from the leaf, whereas the guard cell osmotic potential determined by active biochemical processes.  As Buckley (2005) analyzed in detail, the existance of the mechanical advantage of the epidermis over the guard cells requires an active mechanism to overcome a \"wrong way\" response of stomatal conductance to leaf hydration or dehydration. Below, we develop a model that combines a passive physical model for $psi_g$ developed and extensively validated by Peak and Mott (2011) with an active model for $\\pi_g$ developed by Buckley (2011), which together yield a model for $g_s$,"
   ]
  },
  {
   "cell_type": "markdown",
   "metadata": {},
   "source": [
    "### Active Processes"
   ]
  },
  {
   "cell_type": "markdown",
   "metadata": {},
   "source": [
    "Buckley has at various times employed different forms for the active response of the guard cell osmotic potential, all linking $\\pi_g$ to $\\pi_e$ by some factor $B$:\n",
    "\n",
    "(8)(Buckley Mott Farquhar 2003)$$\\pi_g = BP_e - \\pi_a$$ \n",
    "(9)(Buckley 2005)$$\\pi_g = BP_e$$\n",
    "(10)(Buckley Sack Gilbert 2011)$$\\pi_g - \\pi_e = BP_e$$\n",
    "\n",
    "To our knowledge, there is no empirical evidence for choosing one over the other, but equation (10) yields the cleanest eventual solution:\n",
    "\n",
    "(11)$$g_s = \\chi\\left(\\psi_g + (B-m) + (B + 1 - m)\\pi_e\\right)$$\n",
    "\n",
    "Buckley Mott and Farquhar (2003) proposed that B is some function of the concentration of [ATP] in the guard cells, denoted by $tao$, times an empirical proportionality constant. This concentration is given by a model developed by Farquhar and Wong (1984):\n",
    "\n",
    "(12)$$\\tau = min(\\tau_c, \\tau_j)$$\n",
    "\n",
    "where subscipts c and j represent carboxylation and light limited photosynthesis, respectively.  \n",
    "\n",
    "(13)$$\\tau_c = a_t - p*W_c/W_j + tao_o$$\n",
    "\n",
    "where $a_t$ is the total concentration of adenolates ([ATP] + [ADP]) (units mmol AxP / $m^2$).\n",
    "\n",
    "(14)$$\\tau_j = (a_t - p)*\\frac{V_r/V_m - 1}{W_c/W_j*V_r/V_m - 1} + \\tau_o$$\n",
    "\n",
    "where $p$ is the concentration of phosphorylation sites (units mmol sites / $m^2$), $V_r/V_m$ is the proportionality of $V_r$ (limitation by RuBP pool size) to $V_{cmax}$ (maximal rate of carboxylation under light and $CO_2$ saturation), and $\\tau_o$ is the basal [ATP] (units mmol ATP / $m^2$).\n",
    "\n",
    "$W_c$ and $W_j$ are more widely known as the RuBP and light limited carbon assimilation rates (Farquhar, von Caemmerer and Berry, 1978). This will be presented below, after presenting the physical model of $\\psi_g$."
   ]
  },
  {
   "cell_type": "markdown",
   "metadata": {},
   "source": [
    "### Passive Processes"
   ]
  },
  {
   "cell_type": "markdown",
   "metadata": {},
   "source": [
    "In a group of thoughful experimental and theoretical papers (Shope, Peak and Mott 2008, Peak and Mott 2011, Mott and Peak 2012) Peak and Mott presented a new model for stomatal conductance, in which $\\psi_g$ is in equilibrium with the water vapor in the stomatal pore adjacent to it, $\\psi_p$."
   ]
  },
  {
   "cell_type": "code",
   "execution_count": null,
   "metadata": {
    "collapsed": true
   },
   "outputs": [],
   "source": []
  },
  {
   "cell_type": "code",
   "execution_count": null,
   "metadata": {
    "collapsed": true
   },
   "outputs": [],
   "source": []
  },
  {
   "cell_type": "markdown",
   "metadata": {},
   "source": [
    "## Photosynthesis (not complete)\n",
    "\n",
    "These terms are given by\n",
    "\n",
    "(15)$$W_j = J/4 * \\frac{c_i - \\Gamma^*}{c_i + 2\\Gamma^*}$$\n",
    "\n",
    "and\n",
    "\n",
    "(16)$$W_j = V_{cmax}* \\frac{c_i - \\Gamma^*}{c_i + 2K'}$$\n",
    "\n",
    "such that \n",
    "\n",
    "(17)$$A = min(Wc, Wj) - R_d$$.\n"
   ]
  },
  {
   "cell_type": "code",
   "execution_count": null,
   "metadata": {
    "collapsed": true
   },
   "outputs": [],
   "source": []
  }
 ],
 "metadata": {
  "kernelspec": {
   "display_name": "Python 2",
   "language": "python",
   "name": "python2"
  },
  "language_info": {
   "codemirror_mode": {
    "name": "ipython",
    "version": 2
   },
   "file_extension": ".py",
   "mimetype": "text/x-python",
   "name": "python",
   "nbconvert_exporter": "python",
   "pygments_lexer": "ipython2",
   "version": "2.7.5"
  }
 },
 "nbformat": 4,
 "nbformat_minor": 0
}
